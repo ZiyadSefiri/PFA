{
 "cells": [
  {
   "cell_type": "code",
   "execution_count": 6,
   "metadata": {},
   "outputs": [
    {
     "name": "stdout",
     "output_type": "stream",
     "text": [
      "Collecting playwright\n",
      "  Obtaining dependency information for playwright from https://files.pythonhosted.org/packages/20/0f/098488de02e3d52fc77e8d55c1467f6703701b6ea6788f40409bb8c00dd4/playwright-1.51.0-py3-none-win_amd64.whl.metadata\n",
      "  Downloading playwright-1.51.0-py3-none-win_amd64.whl.metadata (3.5 kB)\n",
      "Collecting pyee<13,>=12 (from playwright)\n",
      "  Obtaining dependency information for pyee<13,>=12 from https://files.pythonhosted.org/packages/25/68/7e150cba9eeffdeb3c5cecdb6896d70c8edd46ce41c0491e12fb2b2256ff/pyee-12.1.1-py3-none-any.whl.metadata\n",
      "  Downloading pyee-12.1.1-py3-none-any.whl.metadata (2.9 kB)\n",
      "Collecting greenlet<4.0.0,>=3.1.1 (from playwright)\n",
      "  Obtaining dependency information for greenlet<4.0.0,>=3.1.1 from https://files.pythonhosted.org/packages/12/da/b9ed5e310bb8b89661b80cbcd4db5a067903bbcd7fc854923f5ebb4144f0/greenlet-3.1.1-cp311-cp311-win_amd64.whl.metadata\n",
      "  Downloading greenlet-3.1.1-cp311-cp311-win_amd64.whl.metadata (3.9 kB)\n",
      "Requirement already satisfied: typing-extensions in c:\\users\\pro\\anaconda3\\lib\\site-packages (from pyee<13,>=12->playwright) (4.7.1)\n",
      "Downloading playwright-1.51.0-py3-none-win_amd64.whl (34.9 MB)\n",
      "   ---------------------------------------- 0.0/34.9 MB ? eta -:--:--\n",
      "   ---------------------------------------- 0.0/34.9 MB 991.0 kB/s eta 0:00:36\n",
      "   ---------------------------------------- 0.2/34.9 MB 2.8 MB/s eta 0:00:13\n",
      "   ---------------------------------------- 0.4/34.9 MB 2.9 MB/s eta 0:00:13\n",
      "    --------------------------------------- 0.7/34.9 MB 3.6 MB/s eta 0:00:10\n",
      "   - -------------------------------------- 1.4/34.9 MB 6.3 MB/s eta 0:00:06\n",
      "   - -------------------------------------- 1.4/34.9 MB 4.9 MB/s eta 0:00:07\n",
      "   -- ------------------------------------- 2.3/34.9 MB 7.3 MB/s eta 0:00:05\n",
      "   --- ------------------------------------ 2.8/34.9 MB 8.4 MB/s eta 0:00:04\n",
      "   ---- ----------------------------------- 4.2/34.9 MB 10.3 MB/s eta 0:00:03\n",
      "   ----- ---------------------------------- 4.5/34.9 MB 10.1 MB/s eta 0:00:03\n",
      "   ------ --------------------------------- 5.9/34.9 MB 11.9 MB/s eta 0:00:03\n",
      "   ------- -------------------------------- 6.8/34.9 MB 12.1 MB/s eta 0:00:03\n",
      "   -------- ------------------------------- 7.5/34.9 MB 11.9 MB/s eta 0:00:03\n",
      "   --------- ------------------------------ 8.1/34.9 MB 12.3 MB/s eta 0:00:03\n",
      "   ---------- ----------------------------- 8.8/34.9 MB 12.2 MB/s eta 0:00:03\n",
      "   ---------- ----------------------------- 9.5/34.9 MB 12.4 MB/s eta 0:00:03\n",
      "   ----------- ---------------------------- 10.2/34.9 MB 12.5 MB/s eta 0:00:02\n",
      "   ------------ --------------------------- 10.5/34.9 MB 13.6 MB/s eta 0:00:02\n",
      "   ------------- -------------------------- 11.4/34.9 MB 14.2 MB/s eta 0:00:02\n",
      "   -------------- ------------------------- 12.2/34.9 MB 15.6 MB/s eta 0:00:02\n",
      "   -------------- ------------------------- 12.8/34.9 MB 14.9 MB/s eta 0:00:02\n",
      "   --------------- ------------------------ 13.7/34.9 MB 15.2 MB/s eta 0:00:02\n",
      "   ---------------- ----------------------- 14.2/34.9 MB 14.5 MB/s eta 0:00:02\n",
      "   ----------------- ---------------------- 15.0/34.9 MB 14.9 MB/s eta 0:00:02\n",
      "   ----------------- ---------------------- 15.6/34.9 MB 13.9 MB/s eta 0:00:02\n",
      "   ------------------ --------------------- 16.1/34.9 MB 13.1 MB/s eta 0:00:02\n",
      "   ------------------- -------------------- 16.9/34.9 MB 12.8 MB/s eta 0:00:02\n",
      "   -------------------- ------------------- 17.4/34.9 MB 12.6 MB/s eta 0:00:02\n",
      "   -------------------- ------------------- 17.9/34.9 MB 12.4 MB/s eta 0:00:02\n",
      "   --------------------- ------------------ 18.5/34.9 MB 12.4 MB/s eta 0:00:02\n",
      "   --------------------- ------------------ 19.0/34.9 MB 12.1 MB/s eta 0:00:02\n",
      "   ---------------------- ----------------- 19.6/34.9 MB 11.9 MB/s eta 0:00:02\n",
      "   ----------------------- ---------------- 20.1/34.9 MB 11.9 MB/s eta 0:00:02\n",
      "   ----------------------- ---------------- 20.7/34.9 MB 11.7 MB/s eta 0:00:02\n",
      "   ------------------------ --------------- 21.1/34.9 MB 11.7 MB/s eta 0:00:02\n",
      "   ------------------------ --------------- 21.7/34.9 MB 11.7 MB/s eta 0:00:02\n",
      "   ------------------------- -------------- 22.2/34.9 MB 11.3 MB/s eta 0:00:02\n",
      "   -------------------------- ------------- 22.8/34.9 MB 11.3 MB/s eta 0:00:02\n",
      "   -------------------------- ------------- 23.3/34.9 MB 11.1 MB/s eta 0:00:02\n",
      "   --------------------------- ------------ 23.9/34.9 MB 10.9 MB/s eta 0:00:02\n",
      "   --------------------------- ------------ 24.4/34.9 MB 10.7 MB/s eta 0:00:01\n",
      "   ---------------------------- ----------- 24.8/34.9 MB 11.1 MB/s eta 0:00:01\n",
      "   ----------------------------- ---------- 25.5/34.9 MB 10.7 MB/s eta 0:00:01\n",
      "   ----------------------------- ---------- 26.1/34.9 MB 10.7 MB/s eta 0:00:01\n",
      "   ------------------------------ --------- 26.7/34.9 MB 10.7 MB/s eta 0:00:01\n",
      "   ------------------------------- -------- 27.2/34.9 MB 10.9 MB/s eta 0:00:01\n",
      "   ------------------------------- -------- 27.8/34.9 MB 10.9 MB/s eta 0:00:01\n",
      "   -------------------------------- ------- 28.4/34.9 MB 11.1 MB/s eta 0:00:01\n",
      "   --------------------------------- ------ 29.0/34.9 MB 10.9 MB/s eta 0:00:01\n",
      "   --------------------------------- ------ 29.5/34.9 MB 10.9 MB/s eta 0:00:01\n",
      "   ---------------------------------- ----- 29.9/34.9 MB 10.9 MB/s eta 0:00:01\n",
      "   ---------------------------------- ----- 30.4/34.9 MB 11.1 MB/s eta 0:00:01\n",
      "   ----------------------------------- ---- 30.7/34.9 MB 11.1 MB/s eta 0:00:01\n",
      "   ------------------------------------ --- 31.4/34.9 MB 10.9 MB/s eta 0:00:01\n",
      "   ------------------------------------ --- 31.7/34.9 MB 10.9 MB/s eta 0:00:01\n",
      "   ------------------------------------ --- 32.2/34.9 MB 10.9 MB/s eta 0:00:01\n",
      "   ------------------------------------- -- 32.5/34.9 MB 10.4 MB/s eta 0:00:01\n",
      "   ------------------------------------- -- 32.7/34.9 MB 10.2 MB/s eta 0:00:01\n",
      "   ------------------------------------- -- 33.1/34.9 MB 9.9 MB/s eta 0:00:01\n",
      "   -------------------------------------- - 33.3/34.9 MB 9.8 MB/s eta 0:00:01\n",
      "   -------------------------------------- - 33.5/34.9 MB 9.6 MB/s eta 0:00:01\n",
      "   -------------------------------------- - 33.9/34.9 MB 9.4 MB/s eta 0:00:01\n",
      "   ---------------------------------------  34.2/34.9 MB 9.4 MB/s eta 0:00:01\n",
      "   ---------------------------------------  34.5/34.9 MB 9.0 MB/s eta 0:00:01\n",
      "   ---------------------------------------  34.8/34.9 MB 8.8 MB/s eta 0:00:01\n",
      "   ---------------------------------------  34.9/34.9 MB 8.7 MB/s eta 0:00:01\n",
      "   ---------------------------------------  34.9/34.9 MB 8.7 MB/s eta 0:00:01\n",
      "   ---------------------------------------  34.9/34.9 MB 8.7 MB/s eta 0:00:01\n",
      "   ---------------------------------------  34.9/34.9 MB 8.7 MB/s eta 0:00:01\n",
      "   ---------------------------------------  34.9/34.9 MB 8.7 MB/s eta 0:00:01\n",
      "   ---------------------------------------- 34.9/34.9 MB 6.9 MB/s eta 0:00:00\n",
      "Downloading greenlet-3.1.1-cp311-cp311-win_amd64.whl (298 kB)\n",
      "   ---------------------------------------- 0.0/298.9 kB ? eta -:--:--\n",
      "   ---------------------------------------  297.0/298.9 kB 9.0 MB/s eta 0:00:01\n",
      "   ---------------------------------------- 298.9/298.9 kB 4.6 MB/s eta 0:00:00\n",
      "Downloading pyee-12.1.1-py3-none-any.whl (15 kB)\n",
      "Installing collected packages: pyee, greenlet, playwright\n",
      "  Attempting uninstall: greenlet\n",
      "    Found existing installation: greenlet 2.0.1\n",
      "    Uninstalling greenlet-2.0.1:\n",
      "      Successfully uninstalled greenlet-2.0.1\n",
      "Successfully installed greenlet-3.1.1 playwright-1.51.0 pyee-12.1.1\n"
     ]
    }
   ],
   "source": [
    "!pip install playwright"
   ]
  },
  {
   "cell_type": "code",
   "execution_count": 7,
   "metadata": {},
   "outputs": [],
   "source": [
    "!playwright install\n"
   ]
  },
  {
   "cell_type": "code",
   "execution_count": 8,
   "metadata": {},
   "outputs": [],
   "source": [
    "import pandas as pd\n",
    "import numpy as np\n",
    "\n",
    "import LEBOURSIER_scraper as scraper\n",
    "\n",
    "import os\n",
    "import  json\n"
   ]
  },
  {
   "cell_type": "code",
   "execution_count": 12,
   "metadata": {},
   "outputs": [
    {
     "data": {
      "text/plain": [
       "<coroutine object stock_scraper at 0x000002226D1F7840>"
      ]
     },
     "execution_count": 12,
     "metadata": {},
     "output_type": "execute_result"
    }
   ],
   "source": [
    "from_date = \"2024-03-31\"\n",
    "to_date = \"2025-03-31\"\n",
    "choice = \"AFMA\"\n",
    "\n",
    "with open(\"isin_codes.json\" , 'r' ) as f1 :\n",
    "    stocks = json.load(f1)\n",
    "\n",
    "stocks_names = list(stocks.keys())\n",
    "stocks_isins = list (stocks.values())\n",
    "\n",
    "\n",
    "scraper.stock_scraper(stocks[choice] , from_date , to_date)\n",
    "\n",
    "#df = pd.read_json(\"your_file.json\")\n"
   ]
  }
 ],
 "metadata": {
  "kernelspec": {
   "display_name": "base",
   "language": "python",
   "name": "python3"
  },
  "language_info": {
   "codemirror_mode": {
    "name": "ipython",
    "version": 3
   },
   "file_extension": ".py",
   "mimetype": "text/x-python",
   "name": "python",
   "nbconvert_exporter": "python",
   "pygments_lexer": "ipython3",
   "version": "3.11.4"
  }
 },
 "nbformat": 4,
 "nbformat_minor": 2
}
